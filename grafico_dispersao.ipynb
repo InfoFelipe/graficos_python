{
 "cells": [
  {
   "cell_type": "markdown",
   "id": "ed1d1ffd-bf45-4e74-9c68-5d16d9b31550",
   "metadata": {},
   "source": [
    "### Gráfico de Dispersão\n",
    "#### Ajuda entender a relação entre causa e efeito de duas variáveis.\n",
    "#### *Para mais informações acesse o link: https://www.notion.so/Gr-ficos-726695d1fe0845588681ee47ee4351b7?pvs=4"
   ]
  },
  {
   "cell_type": "code",
   "execution_count": 1,
   "id": "59c9762a-d34e-4bef-b2bd-9afd620b8deb",
   "metadata": {},
   "outputs": [],
   "source": [
    "import pandas as pd\n",
    "import matplotlib.pyplot as plt\n",
    "from numpy.random import seed\n",
    "from numpy import mean\n",
    "from numpy import std\n",
    "from numpy import correlate\n",
    "from numpy.random import randn"
   ]
  },
  {
   "cell_type": "code",
   "execution_count": 2,
   "id": "05e3e5c6-1387-4a3f-87c4-f7f0e8d86f86",
   "metadata": {},
   "outputs": [],
   "source": [
    "data = {\n",
    "    'A': [1, 1.5, 2, 1.5, -1, -0.5, 0, -0.5],\n",
    "    'A2': [-0.5, 0, -0.5, -1, 1.5, 2, 1.5, 1],\n",
    "    'B': [0, 1, -1, 2.5, -1.5, 0, 1.3, 2.2],\n",
    "    'B2': [0, 1, -1.3, 2.5, 0, 1, 1.3, 2.5],\n",
    "    'y': [1, 1, 1, 1, 0, 0, 0, 0],\n",
    "    'y2': [0, 0, 0, 0, 1, 1, 1, 1] \n",
    "}"
   ]
  },
  {
   "cell_type": "code",
   "execution_count": 3,
   "id": "5a51d07e-d3c5-4263-834a-4e7fee9eaa27",
   "metadata": {},
   "outputs": [
    {
     "data": {
      "text/html": [
       "<div>\n",
       "<style scoped>\n",
       "    .dataframe tbody tr th:only-of-type {\n",
       "        vertical-align: middle;\n",
       "    }\n",
       "\n",
       "    .dataframe tbody tr th {\n",
       "        vertical-align: top;\n",
       "    }\n",
       "\n",
       "    .dataframe thead th {\n",
       "        text-align: right;\n",
       "    }\n",
       "</style>\n",
       "<table border=\"1\" class=\"dataframe\">\n",
       "  <thead>\n",
       "    <tr style=\"text-align: right;\">\n",
       "      <th></th>\n",
       "      <th>A</th>\n",
       "      <th>A2</th>\n",
       "      <th>B</th>\n",
       "      <th>B2</th>\n",
       "      <th>y</th>\n",
       "      <th>y2</th>\n",
       "    </tr>\n",
       "  </thead>\n",
       "  <tbody>\n",
       "    <tr>\n",
       "      <th>0</th>\n",
       "      <td>1.0</td>\n",
       "      <td>-0.5</td>\n",
       "      <td>0.0</td>\n",
       "      <td>0.0</td>\n",
       "      <td>1</td>\n",
       "      <td>0</td>\n",
       "    </tr>\n",
       "    <tr>\n",
       "      <th>1</th>\n",
       "      <td>1.5</td>\n",
       "      <td>0.0</td>\n",
       "      <td>1.0</td>\n",
       "      <td>1.0</td>\n",
       "      <td>1</td>\n",
       "      <td>0</td>\n",
       "    </tr>\n",
       "    <tr>\n",
       "      <th>2</th>\n",
       "      <td>2.0</td>\n",
       "      <td>-0.5</td>\n",
       "      <td>-1.0</td>\n",
       "      <td>-1.3</td>\n",
       "      <td>1</td>\n",
       "      <td>0</td>\n",
       "    </tr>\n",
       "    <tr>\n",
       "      <th>3</th>\n",
       "      <td>1.5</td>\n",
       "      <td>-1.0</td>\n",
       "      <td>2.5</td>\n",
       "      <td>2.5</td>\n",
       "      <td>1</td>\n",
       "      <td>0</td>\n",
       "    </tr>\n",
       "    <tr>\n",
       "      <th>4</th>\n",
       "      <td>-1.0</td>\n",
       "      <td>1.5</td>\n",
       "      <td>-1.5</td>\n",
       "      <td>0.0</td>\n",
       "      <td>0</td>\n",
       "      <td>1</td>\n",
       "    </tr>\n",
       "  </tbody>\n",
       "</table>\n",
       "</div>"
      ],
      "text/plain": [
       "     A   A2    B   B2  y  y2\n",
       "0  1.0 -0.5  0.0  0.0  1   0\n",
       "1  1.5  0.0  1.0  1.0  1   0\n",
       "2  2.0 -0.5 -1.0 -1.3  1   0\n",
       "3  1.5 -1.0  2.5  2.5  1   0\n",
       "4 -1.0  1.5 -1.5  0.0  0   1"
      ]
     },
     "execution_count": 3,
     "metadata": {},
     "output_type": "execute_result"
    }
   ],
   "source": [
    "data = pd.DataFrame(data)\n",
    "data.head()"
   ]
  },
  {
   "cell_type": "code",
   "execution_count": 4,
   "id": "d4611918-673c-4f18-b741-b96388b0192d",
   "metadata": {},
   "outputs": [],
   "source": [
    "data_pred = {\n",
    "    'A': [2.5, -1, 0, -1.5, 1],\n",
    "    'B': [1, -1, 0, 0, 2.1],\n",
    "    'A2': [0, 1, -1, 2.5, -1.5],\n",
    "    'B2': [0, 1, -1.3, 2.5, 0],\n",
    "}"
   ]
  },
  {
   "cell_type": "code",
   "execution_count": 5,
   "id": "2ff76db2-a89d-4604-b1f7-bfca098b864c",
   "metadata": {},
   "outputs": [
    {
     "data": {
      "text/html": [
       "<div>\n",
       "<style scoped>\n",
       "    .dataframe tbody tr th:only-of-type {\n",
       "        vertical-align: middle;\n",
       "    }\n",
       "\n",
       "    .dataframe tbody tr th {\n",
       "        vertical-align: top;\n",
       "    }\n",
       "\n",
       "    .dataframe thead th {\n",
       "        text-align: right;\n",
       "    }\n",
       "</style>\n",
       "<table border=\"1\" class=\"dataframe\">\n",
       "  <thead>\n",
       "    <tr style=\"text-align: right;\">\n",
       "      <th></th>\n",
       "      <th>A</th>\n",
       "      <th>B</th>\n",
       "      <th>A2</th>\n",
       "      <th>B2</th>\n",
       "    </tr>\n",
       "  </thead>\n",
       "  <tbody>\n",
       "    <tr>\n",
       "      <th>0</th>\n",
       "      <td>2.5</td>\n",
       "      <td>1.0</td>\n",
       "      <td>0.0</td>\n",
       "      <td>0.0</td>\n",
       "    </tr>\n",
       "    <tr>\n",
       "      <th>1</th>\n",
       "      <td>-1.0</td>\n",
       "      <td>-1.0</td>\n",
       "      <td>1.0</td>\n",
       "      <td>1.0</td>\n",
       "    </tr>\n",
       "    <tr>\n",
       "      <th>2</th>\n",
       "      <td>0.0</td>\n",
       "      <td>0.0</td>\n",
       "      <td>-1.0</td>\n",
       "      <td>-1.3</td>\n",
       "    </tr>\n",
       "    <tr>\n",
       "      <th>3</th>\n",
       "      <td>-1.5</td>\n",
       "      <td>0.0</td>\n",
       "      <td>2.5</td>\n",
       "      <td>2.5</td>\n",
       "    </tr>\n",
       "    <tr>\n",
       "      <th>4</th>\n",
       "      <td>1.0</td>\n",
       "      <td>2.1</td>\n",
       "      <td>-1.5</td>\n",
       "      <td>0.0</td>\n",
       "    </tr>\n",
       "  </tbody>\n",
       "</table>\n",
       "</div>"
      ],
      "text/plain": [
       "     A    B   A2   B2\n",
       "0  2.5  1.0  0.0  0.0\n",
       "1 -1.0 -1.0  1.0  1.0\n",
       "2  0.0  0.0 -1.0 -1.3\n",
       "3 -1.5  0.0  2.5  2.5\n",
       "4  1.0  2.1 -1.5  0.0"
      ]
     },
     "execution_count": 5,
     "metadata": {},
     "output_type": "execute_result"
    }
   ],
   "source": [
    "data_pred = pd.DataFrame(data_pred)\n",
    "data_pred.head()"
   ]
  },
  {
   "cell_type": "markdown",
   "id": "f9b7df79-85e8-4d27-8dd6-5fab4c490a44",
   "metadata": {},
   "source": [
    "#### Desenvolvimento prático do Gráfico de Dispersão"
   ]
  },
  {
   "cell_type": "code",
   "execution_count": 6,
   "id": "f25586fa-81f1-4687-938c-3082b720394a",
   "metadata": {},
   "outputs": [
    {
     "data": {
      "image/png": "[encoded data removed]",
      "text/plain": [
       "<Figure size 640x480 with 1 Axes>"
      ]
     },
     "metadata": {},
     "output_type": "display_data"
    }
   ],
   "source": [
    "fig, ax = plt.subplots()\n",
    "ax.scatter(\n",
    "        x = data.A,\n",
    "        y = data.B,\n",
    "        c= data.y,\n",
    "        cmap = 'viridis'\n",
    "        )\n",
    "ax.scatter(\n",
    "        x = data_pred.A,\n",
    "        y = data_pred.B,\n",
    "        c = 'red', marker = 's'\n",
    "        )\n",
    "ax.set_title(\"Relação entre variáveis\")\n",
    "ax.set_ylabel(\"Variável A\")\n",
    "ax.set_xlabel(\"Variável B\")\n",
    "plt.show()"
   ]
  },
  {
   "cell_type": "markdown",
   "id": "6d4d1f18-5c8d-4979-a992-66bb0b1fda4f",
   "metadata": {},
   "source": [
    "---"
   ]
  },
  {
   "cell_type": "markdown",
   "id": "8f66a021-c08f-40cd-97de-b01dd96f6c7c",
   "metadata": {},
   "source": [
    "### Exemplo 2"
   ]
  },
  {
   "cell_type": "markdown",
   "id": "df5a44df-b294-40bc-8665-1e1a78b0e10b",
   "metadata": {},
   "source": [
    "### Vamos gerar duas amostra de 1.000 dados cada uma de duas variáveis com uma forte correlação positiva. A primeira variável será gerada por números aleatórios de uma distribuição normal com média 100 e um desvio padrão 20. A segunda variável será gerada com valores da primeira variável adicionando valores aleatórios gerados de uma distribuição normal com média de 50 e um desvio padrão de 10 ."
   ]
  },
  {
   "cell_type": "code",
   "execution_count": 8,
   "id": "10917bf5-384b-4612-a75b-804ee9d0bd33",
   "metadata": {},
   "outputs": [],
   "source": [
    "seed(1)\n",
    "num1 = 20 * randn(1000) * 100\n",
    "num2 = num1 + (10 * randn(1000) * 50)"
   ]
  },
  {
   "cell_type": "code",
   "execution_count": 10,
   "id": "6ecaef8c-0f84-4bf9-98e3-b8f2fc0bbb70",
   "metadata": {},
   "outputs": [
    {
     "data": {
      "text/plain": [
       "Text(0, 0.5, 'Numero2')"
      ]
     },
     "execution_count": 10,
     "metadata": {},
     "output_type": "execute_result"
    },
    {
     "data": {
      "image/png": "[encoded data removed]",
      "text/plain": [
       "<Figure size 640x480 with 1 Axes>"
      ]
     },
     "metadata": {},
     "output_type": "display_data"
    }
   ],
   "source": [
    "fig, ax = plt.subplots()\n",
    "ax.scatter(\n",
    "    x = num1, \n",
    "    y = num2,\n",
    "    s=50, \n",
    "    facecolor='C0', \n",
    "    edgecolor='k',\n",
    "    c = 'blue', \n",
    "    marker = 's'\n",
    ")\n",
    "\n",
    "ax.set_title(\"Relação entre dados Numero1 e Numero2\")\n",
    "ax.set_xlabel(\"Numero1\")\n",
    "ax.set_ylabel(\"Numero2\")"
   ]
  },
  {
   "cell_type": "code",
   "execution_count": null,
   "id": "a8061bfe-7eec-420b-ad07-768fb4226b0e",
   "metadata": {},
   "outputs": [],
   "source": []
  }
 ],
 "metadata": {
  "kernelspec": {
   "display_name": "Python 3 (ipykernel)",
   "language": "python",
   "name": "python3"
  },
  "language_info": {
   "codemirror_mode": {
    "name": "ipython",
    "version": 3
   },
   "file_extension": ".py",
   "mimetype": "text/x-python",
   "name": "python",
   "nbconvert_exporter": "python",
   "pygments_lexer": "ipython3",
   "version": "3.10.9"
  }
 },
 "nbformat": 4,
 "nbformat_minor": 5
}
